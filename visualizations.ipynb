{
 "cells": [
  {
   "cell_type": "code",
   "execution_count": 14,
   "id": "2aa41dc2",
   "metadata": {},
   "outputs": [],
   "source": [
    "from datasets import FrameImageDataset, FrameVideoDataset\n",
    "\n",
    "image_dataset = FrameImageDataset(\n",
    "    root_dir=\"/dtu/datasets1/02516/ucf101_noleakage/\"\n",
    ")\n",
    "video_dataset = FrameVideoDataset(\n",
    "    root_dir=\"/dtu/datasets1/02516/ucf101_noleakage/\",\n",
    ")"
   ]
  },
  {
   "cell_type": "code",
   "execution_count": null,
   "id": "4d06182c",
   "metadata": {},
   "outputs": [],
   "source": []
  },
  {
   "cell_type": "code",
   "execution_count": 15,
   "id": "80d3fbdb",
   "metadata": {},
   "outputs": [
    {
     "name": "stdout",
     "output_type": "stream",
     "text": [
      "torch.Size([3, 224, 224])\n",
      "tensor([0, 0, 0, 0, 0, 0, 0, 0, 0, 1])\n"
     ]
    }
   ],
   "source": [
    "import torch\n",
    "k = 4600\n",
    "print(image_dataset[k]['input'].shape)\n",
    "print(image_dataset[k]['target'])\n"
   ]
  },
  {
   "cell_type": "code",
   "execution_count": 21,
   "id": "bb410d7b",
   "metadata": {},
   "outputs": [
    {
     "data": {
      "text/plain": [
       "tensor([0, 0, 1, 0])"
      ]
     },
     "execution_count": 21,
     "metadata": {},
     "output_type": "execute_result"
    }
   ],
   "source": [
    "import numpy as np\n",
    "np.unique(image_dataset.df['label'].to_numpy()).shape[0]\n",
    "image_dataset.df['label'].nunique()\n",
    "k = 2\n",
    "torch.nn.functional.one_hot(torch.tensor(k), num_classes=4)"
   ]
  },
  {
   "cell_type": "code",
   "execution_count": 34,
   "id": "418364ba",
   "metadata": {},
   "outputs": [
    {
     "data": {
      "text/plain": [
       "tensor(0.5000)"
      ]
     },
     "execution_count": 34,
     "metadata": {},
     "output_type": "execute_result"
    }
   ],
   "source": [
    "outputs = torch.randn(2, 5)\n",
    "outputs = outputs.softmax(dim=-1)\n",
    "targets = torch.randint(0, 3, (2,))\n",
    "\n",
    "top_2_acc = (outputs.topk(2, dim=-1).indices == targets.unsqueeze(1)).float().mean()\n",
    "top_2_acc"
   ]
  },
  {
   "cell_type": "code",
   "execution_count": 28,
   "id": "6e60d4ab",
   "metadata": {},
   "outputs": [
    {
     "name": "stdout",
     "output_type": "stream",
     "text": [
      "tensor([1, 0, 1, 0, 0, 1, 1, 0, 1, 1, 1, 1, 1, 0, 1, 1, 0, 0, 1, 1, 1, 0, 1, 0,\n",
      "        0, 1, 0, 1, 0, 0, 1, 0])\n",
      "tensor([0, 0, 0, 0, 0, 0, 0, 0, 0, 0, 0, 0, 0, 0, 0, 0, 0, 0, 0, 0, 0, 0, 0, 0,\n",
      "        0, 0, 0, 0, 0, 0, 0, 0])\n"
     ]
    }
   ],
   "source": [
    "import torch\n",
    "labels = torch.randint(0, 10, (32,))\n",
    "output = torch.randn(32, 1)\n",
    "\n",
    "if output.shape[-1] == 1:\n",
    "    # binary classification\n",
    "    print((output > 0.0).long().flatten())\n",
    "\n",
    "# multi class classification\n",
    "print(output.argmax(dim=-1))\n"
   ]
  }
 ],
 "metadata": {
  "kernelspec": {
   "display_name": ".venv (3.11.9)",
   "language": "python",
   "name": "python3"
  },
  "language_info": {
   "codemirror_mode": {
    "name": "ipython",
    "version": 3
   },
   "file_extension": ".py",
   "mimetype": "text/x-python",
   "name": "python",
   "nbconvert_exporter": "python",
   "pygments_lexer": "ipython3",
   "version": "3.11.9"
  }
 },
 "nbformat": 4,
 "nbformat_minor": 5
}
