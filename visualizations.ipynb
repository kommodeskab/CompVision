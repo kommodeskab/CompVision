{
 "cells": [
  {
   "cell_type": "code",
   "execution_count": 1,
   "id": "2aa41dc2",
   "metadata": {},
   "outputs": [],
   "source": [
    "from datasets import FrameImageDataset, FrameVideoDataset\n",
    "\n",
    "image_dataset = FrameImageDataset()\n",
    "video_dataset = FrameVideoDataset()"
   ]
  },
  {
   "cell_type": "code",
   "execution_count": 5,
   "id": "7b1f9de3",
   "metadata": {},
   "outputs": [
    {
     "data": {
      "text/plain": [
       "{0: 'BodyWeightSquats',\n",
       " 1: 'HandstandPushups',\n",
       " 2: 'HandstandWalking',\n",
       " 4: 'JumpRope',\n",
       " 3: 'JumpingJack',\n",
       " 5: 'Lunges',\n",
       " 6: 'PullUps',\n",
       " 7: 'PushUps',\n",
       " 8: 'TrampolineJumping',\n",
       " 9: 'WallPushups'}"
      ]
     },
     "execution_count": 5,
     "metadata": {},
     "output_type": "execute_result"
    }
   ],
   "source": [
    "image_dataset.label_to_action"
   ]
  },
  {
   "cell_type": "code",
   "execution_count": 6,
   "id": "2f3fd147",
   "metadata": {},
   "outputs": [],
   "source": [
    "from datetime import datetime\n",
    "\n",
    "def get_timestamp() -> str:\n",
    "    now = datetime.now()\n",
    "    return now.strftime(\"%Y%m%d%H%M%S%f\")[:-3]  # [:-3] to get milliseconds instead of microseconds"
   ]
  },
  {
   "cell_type": "code",
   "execution_count": 7,
   "id": "0b1f6b10",
   "metadata": {},
   "outputs": [
    {
     "data": {
      "text/plain": [
       "'20251002222934094'"
      ]
     },
     "execution_count": 7,
     "metadata": {},
     "output_type": "execute_result"
    }
   ],
   "source": [
    "get_timestamp()"
   ]
  }
 ],
 "metadata": {
  "kernelspec": {
   "display_name": ".venv (3.11.9)",
   "language": "python",
   "name": "python3"
  },
  "language_info": {
   "codemirror_mode": {
    "name": "ipython",
    "version": 3
   },
   "file_extension": ".py",
   "mimetype": "text/x-python",
   "name": "python",
   "nbconvert_exporter": "python",
   "pygments_lexer": "ipython3",
   "version": "3.11.9"
  }
 },
 "nbformat": 4,
 "nbformat_minor": 5
}
